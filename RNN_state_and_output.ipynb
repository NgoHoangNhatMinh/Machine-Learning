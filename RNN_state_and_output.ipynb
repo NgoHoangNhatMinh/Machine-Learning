{
  "nbformat": 4,
  "nbformat_minor": 0,
  "metadata": {
    "colab": {
      "provenance": [],
      "authorship_tag": "ABX9TyPKTzga3QkDICeNbbBsums2",
      "include_colab_link": true
    },
    "kernelspec": {
      "name": "python3",
      "display_name": "Python 3"
    },
    "language_info": {
      "name": "python"
    }
  },
  "cells": [
    {
      "cell_type": "markdown",
      "metadata": {
        "id": "view-in-github",
        "colab_type": "text"
      },
      "source": [
        "<a href=\"https://colab.research.google.com/github/NgoHoangNhatMinh/Machine-Learning/blob/main/RNN_state_and_output.ipynb\" target=\"_parent\"><img src=\"https://colab.research.google.com/assets/colab-badge.svg\" alt=\"Open In Colab\"/></a>"
      ]
    },
    {
      "cell_type": "code",
      "metadata": {
        "id": "hnpa_mqwgSLu"
      },
      "source": [
        "import tensorflow as tf"
      ],
      "execution_count": null,
      "outputs": []
    },
    {
      "cell_type": "code",
      "metadata": {
        "id": "7CmXOoY4gV1o"
      },
      "source": [
        "class RNNModel(tf.keras.Model):\n",
        "  def __init__(self, vocab_size):\n",
        "    super().__init__(self)\n",
        "    self.vocab_size = vocab_size\n",
        "\n",
        "    self.RNN = tf.keras.layers.SimpleRNN(256, return_state=True)\n",
        "\n",
        "  def call(self, inputs, state=None):\n",
        "    x = tf.one_hot(inputs, self.vocab_size)\n",
        "    if state == None:\n",
        "      state = self.RNN.get_initial_state(x)\n",
        "    x, states = self.RNN(x, initial_state=state)\n",
        "    return x, states"
      ],
      "execution_count": null,
      "outputs": []
    },
    {
      "cell_type": "code",
      "metadata": {
        "id": "iejPT3aohOsB"
      },
      "source": [
        "model = RNNModel(60)"
      ],
      "execution_count": null,
      "outputs": []
    },
    {
      "cell_type": "code",
      "metadata": {
        "colab": {
          "base_uri": "https://localhost:8080/"
        },
        "id": "wNa6BTyqhROn",
        "outputId": "9c8d8398-1395-462b-def5-cd044abef05d"
      },
      "source": [
        "a = tf.reshape(tf.constant(30), (1, -1))"
      ],
      "execution_count": null,
      "outputs": [
        {
          "output_type": "execute_result",
          "data": {
            "text/plain": [
              "<tf.Tensor: shape=(1, 1), dtype=int32, numpy=array([[30]], dtype=int32)>"
            ]
          },
          "metadata": {
            "tags": []
          },
          "execution_count": 34
        }
      ]
    },
    {
      "cell_type": "code",
      "metadata": {
        "id": "OOXpkWNfh-qh"
      },
      "source": [
        "x, state = model(a)"
      ],
      "execution_count": null,
      "outputs": []
    }
  ]
}